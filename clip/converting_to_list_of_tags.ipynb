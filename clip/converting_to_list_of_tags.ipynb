{
 "cells": [
  {
   "cell_type": "code",
   "execution_count": 47,
   "metadata": {},
   "outputs": [],
   "source": [
    "import json\n",
    "# read the json\n",
    "with open('metadata.json') as f:\n",
    "    data = json.load(f)"
   ]
  },
  {
   "cell_type": "code",
   "execution_count": 5,
   "metadata": {},
   "outputs": [
    {
     "name": "stdout",
     "output_type": "stream",
     "text": [
      "[{'title': 'Cornelia Street', 'artist': 'John French Sloan', 'date': '1920', 'genre': 'cityscape', 'style': 'New Realism', 'description': 'John French Sloan / Cornelia Street / New Realism / cityscape / 1920', 'filename': '0.jpg'}, {'title': 'O Diabo, a Paraquedista, Etc', 'artist': 'Rene Bertholo', 'date': '1997.0', 'genre': 'figurative', 'style': 'Surrealism', 'description': 'Rene Bertholo / O Diabo, a Paraquedista, Etc / Surrealism / figurative / 1997.0', 'filename': '100000.jpg'}, {'title': 'Milking the Cow ', 'artist': 'Yasuo Kuniyoshi', 'date': '1927.0', 'genre': 'genre painting', 'style': 'Expressionism', 'description': 'Yasuo Kuniyoshi / Milking the Cow  / Expressionism / genre painting / 1927.0', 'filename': '100005.jpg'}]\n"
     ]
    }
   ],
   "source": [
    "# print the first 20 lines of metadata\n",
    "print(data[:3])"
   ]
  },
  {
   "cell_type": "code",
   "execution_count": 9,
   "metadata": {},
   "outputs": [
    {
     "name": "stdout",
     "output_type": "stream",
     "text": [
      "New Realism\n"
     ]
    }
   ],
   "source": [
    "print(data[0]['style'])"
   ]
  },
  {
   "cell_type": "code",
   "execution_count": 48,
   "metadata": {},
   "outputs": [],
   "source": [
    "# print unique styles\n",
    "styles_index = {}\n",
    "for i in range(len(data)):\n",
    "    if data[i]['style'] not in styles_index:\n",
    "        styles_index[data[i]['style']] = 1\n",
    "    else:\n",
    "        styles_index[data[i]['style']] += 1"
   ]
  },
  {
   "cell_type": "code",
   "execution_count": 28,
   "metadata": {},
   "outputs": [
    {
     "name": "stderr",
     "output_type": "stream",
     "text": [
      "[nltk_data] Downloading package punkt to /home2/sanika/nltk_data...\n",
      "[nltk_data]   Package punkt is already up-to-date!\n"
     ]
    }
   ],
   "source": [
    "# tokenize the styles, remove punctuation, and make lowercase\n",
    "import nltk\n",
    "from nltk.tokenize import word_tokenize\n",
    "from nltk.corpus import stopwords\n",
    "from nltk.stem import WordNetLemmatizer\n",
    "import string\n",
    "\n",
    "nltk.download('punkt')\n",
    "\n",
    "# remove punctuation\n",
    "table = str.maketrans('', '', string.punctuation)\n",
    "styles = [style.translate(table) for style in styles]"
   ]
  },
  {
   "cell_type": "code",
   "execution_count": 29,
   "metadata": {},
   "outputs": [],
   "source": [
    "styles = [style.lower() for style in styles]"
   ]
  },
  {
   "cell_type": "code",
   "execution_count": 30,
   "metadata": {},
   "outputs": [],
   "source": [
    "# change the french i to english i in naive\n",
    "styles = [style.replace('naïve', 'naive') for style in styles]"
   ]
  },
  {
   "cell_type": "code",
   "execution_count": 49,
   "metadata": {},
   "outputs": [],
   "source": [
    "# go through json file, add a new field called description\n",
    "# the description is styles (match it with the style)\n",
    "# append the name of the artist in the begginning of the description\n",
    "# append the genre of the painting in the beginning of the description\n",
    "\n",
    "new_data = []\n",
    "for i in range(len(data)):\n",
    "    new_data.append(data[i])\n",
    "    # get index by matching it with styles_index\n",
    "    index = 0\n",
    "    for key in styles_index:\n",
    "        if key == data[i]['style']:\n",
    "            break\n",
    "        index += 1\n",
    "    if styles[index] == 'none':\n",
    "        new_data[i]['description'] = data[i]['artist'] + ' ' + data[i]['genre']\n",
    "    else:\n",
    "        new_data[i]['description'] = data[i]['artist'] + ' ' + data[i]['genre'] + ' ' + styles[index]\n",
    "        # remove \\n\n",
    "        new_data[i]['description'] = new_data[i]['description'].replace('\\n', '')\n",
    "    new_data[i]['filename'] = data[i]['filename']\n",
    "    # delete title, date, genre, style\n",
    "    del new_data[i]['title']\n",
    "    del new_data[i]['date']\n",
    "    del new_data[i]['genre']\n",
    "    del new_data[i]['style']\n",
    "    del new_data[i]['artist']\n"
   ]
  },
  {
   "cell_type": "code",
   "execution_count": 50,
   "metadata": {},
   "outputs": [],
   "source": [
    "# dump into json\n",
    "with open('descriptions.json', 'w') as f:\n",
    "    json.dump(new_data, f, indent=4)"
   ]
  },
  {
   "cell_type": "code",
   "execution_count": 31,
   "metadata": {},
   "outputs": [],
   "source": [
    "# dump styles into file\n",
    "with open('styles_desc.txt', 'w') as f:\n",
    "    for style in styles:\n",
    "        f.write(style)"
   ]
  },
  {
   "cell_type": "code",
   "execution_count": 51,
   "metadata": {},
   "outputs": [],
   "source": [
    "# load json\n",
    "with open('descriptions.json') as f:\n",
    "    data = json.load(f)"
   ]
  },
  {
   "cell_type": "code",
   "execution_count": 52,
   "metadata": {},
   "outputs": [
    {
     "data": {
      "text/plain": [
       "[{'description': 'John French Sloan cityscape new realism contemporary subjects portrayed with hyperrealistic detail and precision',\n",
       "  'filename': '0.jpg'},\n",
       " {'description': 'Rene Bertholo figurative surrealism dreamlike illogical scenes exploring the subconscious mind',\n",
       "  'filename': '100000.jpg'},\n",
       " {'description': 'Yasuo Kuniyoshi genre painting expressionism bold colors and distorted forms convey emotional intensity',\n",
       "  'filename': '100005.jpg'}]"
      ]
     },
     "execution_count": 52,
     "metadata": {},
     "output_type": "execute_result"
    }
   ],
   "source": [
    "data[:3]"
   ]
  }
 ],
 "metadata": {
  "kernelspec": {
   "display_name": "smai",
   "language": "python",
   "name": "python3"
  },
  "language_info": {
   "codemirror_mode": {
    "name": "ipython",
    "version": 3
   },
   "file_extension": ".py",
   "mimetype": "text/x-python",
   "name": "python",
   "nbconvert_exporter": "python",
   "pygments_lexer": "ipython3",
   "version": "3.7.16"
  }
 },
 "nbformat": 4,
 "nbformat_minor": 2
}
