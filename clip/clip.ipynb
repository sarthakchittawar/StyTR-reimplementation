{
 "cells": [
  {
   "cell_type": "code",
   "execution_count": 1,
   "metadata": {},
   "outputs": [],
   "source": [
    "import json\n",
    "import torch\n",
    "import torch.nn as nn\n",
    "from torch.utils.data import DataLoader, Dataset\n",
    "from PIL import Image\n",
    "import clip\n",
    "from transformers import CLIPProcessor, CLIPModel\n",
    "import os\n",
    "from tqdm import tqdm\n",
    "import torch.nn.functional as F"
   ]
  },
  {
   "cell_type": "code",
   "execution_count": 2,
   "metadata": {},
   "outputs": [
    {
     "data": {
      "text/plain": [
       "'cuda'"
      ]
     },
     "execution_count": 2,
     "metadata": {},
     "output_type": "execute_result"
    }
   ],
   "source": [
    "device = \"cuda\" if torch.cuda.is_available() else \"cpu\"\n",
    "device"
   ]
  },
  {
   "cell_type": "code",
   "execution_count": 3,
   "metadata": {},
   "outputs": [],
   "source": [
    "model = CLIPModel.from_pretrained(\"openai/clip-vit-base-patch32\")\n",
    "processor = CLIPProcessor.from_pretrained(\"openai/clip-vit-base-patch32\")\n",
    "model, preprocess = clip.load(\"ViT-B/32\", device=device, jit=False)"
   ]
  },
  {
   "cell_type": "code",
   "execution_count": 5,
   "metadata": {},
   "outputs": [],
   "source": [
    "class image_caption_dataset(Dataset):\n",
    "    def __init__(self, image_paths, image_captions, preprocess):\n",
    "        self.image_paths = image_paths\n",
    "        self.image_captions = clip.tokenize(image_captions)\n",
    "        self.preprocess = preprocess\n",
    "\n",
    "    def __len__(self):\n",
    "        return len(self.image_paths)\n",
    "\n",
    "    def __getitem__(self, idx):\n",
    "        image = preprocess(Image.open(self.image_paths[idx]))\n",
    "        caption = self.image_captions[idx]\n",
    "        return image, caption"
   ]
  },
  {
   "cell_type": "code",
   "execution_count": 11,
   "metadata": {},
   "outputs": [],
   "source": [
    "with open(\"descriptions.json\") as f:\n",
    "    descriptions = json.load(f)\n",
    "\n",
    "image_captions = []\n",
    "image_paths = []\n",
    "for description in descriptions:\n",
    "    path = f\"/scratch/sanika/wikiart/{description['filename']}\"\n",
    "    image_captions.append(description[\"description\"])\n",
    "    image_paths.append(path)"
   ]
  },
  {
   "cell_type": "code",
   "execution_count": null,
   "metadata": {},
   "outputs": [],
   "source": [
    "dataset = image_caption_dataset(image_paths, image_captions, preprocess)\n",
    "dataloader = DataLoader(dataset, batch_size=32, shuffle=True)"
   ]
  },
  {
   "cell_type": "code",
   "execution_count": null,
   "metadata": {},
   "outputs": [],
   "source": [
    "def convert_to_fp32(model): \n",
    "    for p in model.parameters(): \n",
    "        p.data = p.data.float() \n",
    "        p.grad.data = p.grad.data.float() "
   ]
  },
  {
   "cell_type": "code",
   "execution_count": 8,
   "metadata": {},
   "outputs": [
    {
     "data": {
      "text/plain": [
       "<All keys matched successfully>"
      ]
     },
     "execution_count": 8,
     "metadata": {},
     "output_type": "execute_result"
    }
   ],
   "source": [
    "# load weghts\n",
    "model.load_state_dict(torch.load(\"model_4.pt\"))"
   ]
  },
  {
   "cell_type": "code",
   "execution_count": null,
   "metadata": {},
   "outputs": [],
   "source": [
    "optimizer = torch.optim.Adam(model.parameters(), lr=4e-5,betas=(0.9,0.98),eps=1e-5)\n",
    "loss_image = nn.CrossEntropyLoss()\n",
    "loss_caption = nn.CrossEntropyLoss()"
   ]
  },
  {
   "cell_type": "code",
   "execution_count": null,
   "metadata": {},
   "outputs": [],
   "source": [
    "epochs = 5\n",
    "\n",
    "for epoch in range(epochs):\n",
    "    loss = 0\n",
    "    for batch in tqdm(dataloader):\n",
    "        optimizer.zero_grad()\n",
    "        images, captions = batch\n",
    "        images = images.to(device)\n",
    "        captions = captions.to(device)\n",
    "\n",
    "        logits_per_image, logits_per_text = model(images, captions)\n",
    "\n",
    "        ground = torch.arange(len(images), dtype=torch.long).to(device)\n",
    "        total_loss = loss_image(logits_per_image, ground) + loss_caption(logits_per_text, ground)\n",
    "        total_loss.backward()\n",
    "        convert_to_fp32(model)\n",
    "        optimizer.step() \n",
    "        clip.model.convert_weights(model)\n",
    "        loss += total_loss.item()\n",
    "\n",
    "    # save model as epoch\n",
    "    torch.save(model.state_dict(), f\"model_{epoch}.pt\")\n",
    "\n",
    "    print(\"Epoch: {} Loss: {}\".format(epoch, loss))"
   ]
  },
  {
   "cell_type": "code",
   "execution_count": 7,
   "metadata": {},
   "outputs": [
    {
     "data": {
      "text/plain": [
       "<All keys matched successfully>"
      ]
     },
     "execution_count": 7,
     "metadata": {},
     "output_type": "execute_result"
    }
   ],
   "source": [
    "model.load_state_dict(torch.load(\"model_4.pt\"))"
   ]
  },
  {
   "cell_type": "code",
   "execution_count": 8,
   "metadata": {},
   "outputs": [
    {
     "name": "stderr",
     "output_type": "stream",
     "text": [
      "100%|██████████| 103250/103250 [20:04<00:00, 85.75it/s]\n"
     ]
    }
   ],
   "source": [
    "# save encodings of all the images\n",
    "encodings = []\n",
    "for image in tqdm(image_paths):\n",
    "    img = preprocess(Image.open(image)).unsqueeze(0).to(device)\n",
    "    with torch.no_grad():\n",
    "        encodings.append(model.encode_image(img))"
   ]
  },
  {
   "cell_type": "code",
   "execution_count": 9,
   "metadata": {},
   "outputs": [],
   "source": [
    "# save to file\n",
    "torch.save(encodings, \"encodings.pt\")"
   ]
  },
  {
   "cell_type": "code",
   "execution_count": 4,
   "metadata": {},
   "outputs": [],
   "source": [
    "encodings = torch.load(\"encodings.pt\")"
   ]
  },
  {
   "cell_type": "code",
   "execution_count": 5,
   "metadata": {},
   "outputs": [],
   "source": [
    "model, preprocess = clip.load(\"ViT-B/32\", device=device)"
   ]
  },
  {
   "cell_type": "code",
   "execution_count": 6,
   "metadata": {},
   "outputs": [
    {
     "data": {
      "text/plain": [
       "<All keys matched successfully>"
      ]
     },
     "execution_count": 6,
     "metadata": {},
     "output_type": "execute_result"
    }
   ],
   "source": [
    "model.load_state_dict(torch.load(\"model_9.pt\"))"
   ]
  },
  {
   "cell_type": "code",
   "execution_count": 7,
   "metadata": {},
   "outputs": [],
   "source": [
    "# stack encodings\n",
    "encodings = torch.stack(encodings)"
   ]
  },
  {
   "cell_type": "code",
   "execution_count": 17,
   "metadata": {},
   "outputs": [
    {
     "name": "stdout",
     "output_type": "stream",
     "text": [
      "torch.Size([103250, 1, 512])\n"
     ]
    }
   ],
   "source": [
    "print(encodings.shape)"
   ]
  },
  {
   "cell_type": "code",
   "execution_count": 8,
   "metadata": {},
   "outputs": [],
   "source": [
    "encodings = encodings.squeeze(1)"
   ]
  },
  {
   "cell_type": "code",
   "execution_count": 9,
   "metadata": {},
   "outputs": [],
   "source": [
    "# get input text, compare it with all the encodings, return top 5 images\n",
    "def get_top_5_images(text):\n",
    "    text_features = model.encode_text(clip.tokenize([text]).to(device))\n",
    "    similarities = F.cosine_similarity(encodings, text_features, dim=-1)\n",
    "    print(similarities.shape)\n",
    "    # Get top 5 indices\n",
    "    values, indices = similarities.topk(5)\n",
    "\n",
    "    # Get top 5 image paths\n",
    "    return [image_paths[i] for i in indices]"
   ]
  },
  {
   "cell_type": "code",
   "execution_count": 22,
   "metadata": {},
   "outputs": [
    {
     "name": "stdout",
     "output_type": "stream",
     "text": [
      "torch.Size([103250])\n",
      "/scratch/sanika/wikiart/97958.jpg\n"
     ]
    }
   ],
   "source": [
    "# load and plot images\n",
    "import matplotlib.pyplot as plt\n",
    "import matplotlib.image as mpimg\n",
    "\n",
    "images = get_top_5_images(\"blue ink painting brushstrokes\")\n",
    "print(images[0])\n",
    "# for image in images:\n",
    "#     img = mpimg.imread(image)\n",
    "#     imgplot = plt.imshow(img)\n",
    "#     plt.show()"
   ]
  },
  {
   "cell_type": "code",
   "execution_count": 15,
   "metadata": {},
   "outputs": [
    {
     "name": "stdout",
     "output_type": "stream",
     "text": [
      "['/scratch/sanika/wikiart/75458.jpg', '/scratch/sanika/wikiart/57460.jpg', '/scratch/sanika/wikiart/89092.jpg', '/scratch/sanika/wikiart/14701.jpg', '/scratch/sanika/wikiart/4581.jpg']\n"
     ]
    }
   ],
   "source": [
    "print(images)"
   ]
  }
 ],
 "metadata": {
  "kernelspec": {
   "display_name": "smai",
   "language": "python",
   "name": "python3"
  },
  "language_info": {
   "codemirror_mode": {
    "name": "ipython",
    "version": 3
   },
   "file_extension": ".py",
   "mimetype": "text/x-python",
   "name": "python",
   "nbconvert_exporter": "python",
   "pygments_lexer": "ipython3",
   "version": "3.7.16"
  }
 },
 "nbformat": 4,
 "nbformat_minor": 2
}
