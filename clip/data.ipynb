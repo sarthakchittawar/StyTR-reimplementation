{
 "cells": [
  {
   "cell_type": "code",
   "execution_count": 1,
   "metadata": {},
   "outputs": [
    {
     "name": "stderr",
     "output_type": "stream",
     "text": [
      "Found cached dataset parquet (/scratch/sanika/Artificio___parquet/default-c80d7f21053e48cf/0.0.0/14a00e99c0d15a23649d0db8944380ac81082d4b021f398733dd84f3a6c569a7)\n"
     ]
    },
    {
     "data": {
      "application/vnd.jupyter.widget-view+json": {
       "model_id": "3247e1376c5f413a853199441fec6af6",
       "version_major": 2,
       "version_minor": 0
      },
      "text/plain": [
       "  0%|          | 0/1 [00:00<?, ?it/s]"
      ]
     },
     "metadata": {},
     "output_type": "display_data"
    }
   ],
   "source": [
    "from datasets import load_dataset\n",
    "config = {\n",
    "    \"dataset\": \"Artificio/WikiArt\",\n",
    "    \"split\": \"train\",\n",
    "    \"cache_dir\": \"/scratch/sanika\",\n",
    "    # download the dataset\n",
    "    \"download\": True\n",
    "}\n",
    "\n",
    "dataset = load_dataset(config[\"dataset\"], config[\"split\"], cache_dir=config[\"cache_dir\"])"
   ]
  },
  {
   "cell_type": "code",
   "execution_count": 19,
   "metadata": {},
   "outputs": [],
   "source": [
    "from tqdm import tqdm\n",
    "from PIL import Image\n",
    "import matplotlib.pyplot as plt\n",
    "import io\n",
    "import json"
   ]
  },
  {
   "cell_type": "code",
   "execution_count": 22,
   "metadata": {},
   "outputs": [
    {
     "name": "stderr",
     "output_type": "stream",
     "text": [
      "100%|██████████| 103250/103250 [09:30<00:00, 180.96it/s]\n"
     ]
    }
   ],
   "source": [
    "metadata = []\n",
    "\n",
    "for i in tqdm(range(103250)):\n",
    "    # read img.jpg.plugin\n",
    "    # print(dataset[\"train\"][i])\n",
    "    # buffer = io.BytesIO()\n",
    "    # dataset[\"train\"][i][\"image\"].save(buffer, format=\"JPEG\")\n",
    "    # img = Image.open(buffer)\n",
    "    # img.save(f\"/scratch/sanika/wikiart/{dataset['train'][i]['filename']}\")\n",
    "    # save the metadata as a json file\n",
    "    metadata.append({\n",
    "        'title': dataset[\"train\"][i][\"title\"],\n",
    "        'artist': dataset[\"train\"][i][\"artist\"],\n",
    "        'date': dataset[\"train\"][i][\"date\"],\n",
    "        'genre': dataset[\"train\"][i][\"genre\"],\n",
    "        'style': dataset[\"train\"][i][\"style\"],\n",
    "        'description': dataset[\"train\"][i][\"description\"],\n",
    "        'filename': dataset[\"train\"][i][\"filename\"]\n",
    "    })\n"
   ]
  },
  {
   "cell_type": "code",
   "execution_count": 24,
   "metadata": {},
   "outputs": [],
   "source": [
    "# dump json\n",
    "with open(\"metadata.json\", \"w\") as f:\n",
    "    json.dump(metadata, f)"
   ]
  },
  {
   "cell_type": "code",
   "execution_count": 26,
   "metadata": {},
   "outputs": [],
   "source": [
    "# dump first 10 lines of the file to the json\n",
    "smaller_metadata = metadata[:10]\n",
    "with open(\"smallermetadata.json\", \"w\") as f:\n",
    "    json.dump(smaller_metadata, f)"
   ]
  }
 ],
 "metadata": {
  "kernelspec": {
   "display_name": "smai",
   "language": "python",
   "name": "python3"
  },
  "language_info": {
   "codemirror_mode": {
    "name": "ipython",
    "version": 3
   },
   "file_extension": ".py",
   "mimetype": "text/x-python",
   "name": "python",
   "nbconvert_exporter": "python",
   "pygments_lexer": "ipython3",
   "version": "3.7.16"
  }
 },
 "nbformat": 4,
 "nbformat_minor": 2
}
